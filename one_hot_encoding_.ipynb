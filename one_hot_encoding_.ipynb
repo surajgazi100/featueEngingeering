{
  "nbformat": 4,
  "nbformat_minor": 0,
  "metadata": {
    "colab": {
      "name": "one hot encoding .ipynb",
      "provenance": [],
      "authorship_tag": "ABX9TyMovp017BtelnzGOk7p09p6",
      "include_colab_link": true
    },
    "kernelspec": {
      "name": "python3",
      "display_name": "Python 3"
    }
  },
  "cells": [
    {
      "cell_type": "markdown",
      "metadata": {
        "id": "view-in-github",
        "colab_type": "text"
      },
      "source": [
        "<a href=\"https://colab.research.google.com/github/surajgazi100/featueEngingeering/blob/main/one_hot_encoding_.ipynb\" target=\"_parent\"><img src=\"https://colab.research.google.com/assets/colab-badge.svg\" alt=\"Open In Colab\"/></a>"
      ]
    },
    {
      "cell_type": "code",
      "metadata": {
        "colab": {
          "resources": {
            "http://localhost:8080/nbextensions/google.colab/files.js": {
              "data": "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",
              "ok": true,
              "headers": [
                [
                  "content-type",
                  "application/javascript"
                ]
              ],
              "status": 200,
              "status_text": ""
            }
          },
          "base_uri": "https://localhost:8080/",
          "height": 73
        },
        "id": "HrGXyY1NY1AK",
        "outputId": "3cff820b-1836-4a02-d114-196404de7a61"
      },
      "source": [
        "from google.colab import files \n",
        "uploaded = files.upload() "
      ],
      "execution_count": null,
      "outputs": [
        {
          "output_type": "display_data",
          "data": {
            "text/html": [
              "\n",
              "     <input type=\"file\" id=\"files-262c1120-a892-49e5-a522-0bdb3c080ad3\" name=\"files[]\" multiple disabled\n",
              "        style=\"border:none\" />\n",
              "     <output id=\"result-262c1120-a892-49e5-a522-0bdb3c080ad3\">\n",
              "      Upload widget is only available when the cell has been executed in the\n",
              "      current browser session. Please rerun this cell to enable.\n",
              "      </output>\n",
              "      <script src=\"/nbextensions/google.colab/files.js\"></script> "
            ],
            "text/plain": [
              "<IPython.core.display.HTML object>"
            ]
          },
          "metadata": {
            "tags": []
          }
        },
        {
          "output_type": "stream",
          "text": [
            "Saving Real_Combine.csv to Real_Combine.csv\n"
          ],
          "name": "stdout"
        }
      ]
    },
    {
      "cell_type": "code",
      "metadata": {
        "colab": {
          "base_uri": "https://localhost:8080/",
          "height": 195
        },
        "id": "UKuzHIudZIoF",
        "outputId": "d8f9ec58-79c7-4e93-df59-b0801c9bf1d8"
      },
      "source": [
        "import numpy as np\n",
        "import pandas as pd\n",
        "data = pd.read_csv('Real_Combine.csv',usecols=['T','TM','Tm','SLP'])\n",
        "data.head()"
      ],
      "execution_count": 13,
      "outputs": [
        {
          "output_type": "execute_result",
          "data": {
            "text/html": [
              "<div>\n",
              "<style scoped>\n",
              "    .dataframe tbody tr th:only-of-type {\n",
              "        vertical-align: middle;\n",
              "    }\n",
              "\n",
              "    .dataframe tbody tr th {\n",
              "        vertical-align: top;\n",
              "    }\n",
              "\n",
              "    .dataframe thead th {\n",
              "        text-align: right;\n",
              "    }\n",
              "</style>\n",
              "<table border=\"1\" class=\"dataframe\">\n",
              "  <thead>\n",
              "    <tr style=\"text-align: right;\">\n",
              "      <th></th>\n",
              "      <th>T</th>\n",
              "      <th>TM</th>\n",
              "      <th>Tm</th>\n",
              "      <th>SLP</th>\n",
              "    </tr>\n",
              "  </thead>\n",
              "  <tbody>\n",
              "    <tr>\n",
              "      <th>0</th>\n",
              "      <td>7.4</td>\n",
              "      <td>9.8</td>\n",
              "      <td>4.8</td>\n",
              "      <td>1017.6</td>\n",
              "    </tr>\n",
              "    <tr>\n",
              "      <th>1</th>\n",
              "      <td>7.8</td>\n",
              "      <td>12.7</td>\n",
              "      <td>4.4</td>\n",
              "      <td>1018.5</td>\n",
              "    </tr>\n",
              "    <tr>\n",
              "      <th>2</th>\n",
              "      <td>6.7</td>\n",
              "      <td>13.4</td>\n",
              "      <td>2.4</td>\n",
              "      <td>1019.4</td>\n",
              "    </tr>\n",
              "    <tr>\n",
              "      <th>3</th>\n",
              "      <td>8.6</td>\n",
              "      <td>15.5</td>\n",
              "      <td>3.3</td>\n",
              "      <td>1018.7</td>\n",
              "    </tr>\n",
              "    <tr>\n",
              "      <th>4</th>\n",
              "      <td>12.4</td>\n",
              "      <td>20.9</td>\n",
              "      <td>4.4</td>\n",
              "      <td>1017.3</td>\n",
              "    </tr>\n",
              "  </tbody>\n",
              "</table>\n",
              "</div>"
            ],
            "text/plain": [
              "      T    TM   Tm     SLP\n",
              "0   7.4   9.8  4.8  1017.6\n",
              "1   7.8  12.7  4.4  1018.5\n",
              "2   6.7  13.4  2.4  1019.4\n",
              "3   8.6  15.5  3.3  1018.7\n",
              "4  12.4  20.9  4.4  1017.3"
            ]
          },
          "metadata": {
            "tags": []
          },
          "execution_count": 13
        }
      ]
    },
    {
      "cell_type": "markdown",
      "metadata": {
        "id": "R-NhVMJggY-S"
      },
      "source": [
        "load data set "
      ]
    },
    {
      "cell_type": "code",
      "metadata": {
        "colab": {
          "base_uri": "https://localhost:8080/"
        },
        "id": "DPVkU2XcbS22",
        "outputId": "9e3dae3a-9a3d-477e-be11-1fb0b23ed99b"
      },
      "source": [
        "for col in data.columns:\n",
        "  print(col,':',len(data[col].unique()),'labels')"
      ],
      "execution_count": 14,
      "outputs": [
        {
          "output_type": "stream",
          "text": [
            "T : 243 labels\n",
            "TM : 238 labels\n",
            "Tm : 223 labels\n",
            "SLP : 254 labels\n"
          ],
          "name": "stdout"
        }
      ]
    },
    {
      "cell_type": "markdown",
      "metadata": {
        "id": "RbgO35NaggR9"
      },
      "source": [
        "lets examine how many colum we will obtain after one hot encoding  these variables\n",
        "\n",
        "**Introduction**\n",
        "\n",
        "In computer science, data can be represented in a lot of different ways, and naturally, every single one of them has its advantages as well as disadvantages in certain fields.\n",
        "\n",
        "\n",
        "Since computers are unable to process categorical data as these categories have no meaning for them, this information has to be prepared if we want a computer to be able to process it.\n",
        "\n",
        "\n",
        "This action is called preprocessing. A big part of preprocessing is encoding - representing every single piece of data in a way that a computer can understand (the name literally means \"convert to computer code\").\n",
        "\n",
        "\n",
        "In many branches of computer science, especially machine learning and digital circuit design, One-Hot Encoding is widely used.\n"
      ]
    },
    {
      "cell_type": "code",
      "metadata": {
        "colab": {
          "base_uri": "https://localhost:8080/"
        },
        "id": "epBav9aebABU",
        "outputId": "63b2cfe2-da15-4efe-cb56-7cd4674f6975"
      },
      "source": [
        "pd.get_dummies(data,drop_first=True).shape"
      ],
      "execution_count": 15,
      "outputs": [
        {
          "output_type": "execute_result",
          "data": {
            "text/plain": [
              "(1093, 4)"
            ]
          },
          "metadata": {
            "tags": []
          },
          "execution_count": 15
        }
      ]
    },
    {
      "cell_type": "markdown",
      "metadata": {
        "id": "9kIBkwPrqQS5"
      },
      "source": [
        "lets find the top frequent categories for the variable x2"
      ]
    },
    {
      "cell_type": "code",
      "metadata": {
        "colab": {
          "base_uri": "https://localhost:8080/"
        },
        "id": "8sHeOWqSpy-6",
        "outputId": "98cd7f77-34db-42cb-e97c-959d9274788a"
      },
      "source": [
        "data.T.value_counts().sort_values(ascending=False).head(20)"
      ],
      "execution_count": 21,
      "outputs": [
        {
          "output_type": "execute_result",
          "data": {
            "text/plain": [
              "0       1       2       3       4       5       6       7       8       9       10      11      12      13      14      15      16      17      18      19      20      21      22      23      24      25      26      27      28      29      30      31      32      33      34      35      36      37      38      39      40      41      42      43      44      45      46      47      48      49      50      51      52      53      54      55      56      57      58      59      60      61      62      63     64      65      66      67      68      69      70     71     72     73     74     75     76     77      78      79     80     81     82     83     84     85     86     87     88     89     90     91     92     93     94     95      96     97     98     99     100    101    102    103    104    105    106    107    108    109    110     111     112     113     114     115     116     117     118    119    120    121    122    123     124     125     126     127     128     129     130     131     132     133     134     135     136     137     138     139     140     141     142     143     144     145     146     147     148     149     150     151     152     153     154     155     156     157     158     159     160     161     162     163     164     165     166     167     168     169     170     171     172     173     174     175     176     177     178     179     180     181     182     183     184     185     186     187     188     189     190     191     192     193     194     195     196     197     198     199     200     201     202     203     204     205     206     207     208     209     210     211     212     213     214     215     216     217     218     219     220     221     222     223     224     225     226     227     228     229     230     231     232     233     234     235     236     237     238     239     240     241     242     243     244     245     246     247     248     249     250     251     252     253     254     255     256     257     258     259     260     261    262     263     264     265    266    267    268    269    270    271    272    273    274    275     276     277     278     279    280    281    282    283    284    285    286    287    288    289     290     291     292    293    294    295    296    297    298     299    300    301    302     303     304     305     306     307     308     309     310     311     312     313     314     315     316     317     318     319     320     321     322     323     324     325     326     327     328     329     330     331     332     333     334     335     336     337     338     339     340     341     342     343     344     345     346     347     348     349     350     351     352     353     354     355     356     357     358     359     360     361     362     363     364     365     366     367     368     369     370     371     372     373     374     375     376     377     378     379     380     381     382     383     384     385     386     387     388     389     390     391     392     393     394     395     396     397     398     399     400     401     402     403     404     405     406     407     408     409     410     411     412     413     414     415     416     417     418     419     420     421     422     423     424     425     426     427     428     429     430     431     432     433     434     435     436     437     438     439     440     441     442    443    444     445     446     447     448     449    450    451    452    453     454    455    456    457    458    459    460    461     462     463    464    465    466    467     468    469    470    471    472    473    474    475     476    477     478     479     480    481     482     483     484     485     486     487     488     489     490     491     492     493     494     495     496     497     498     499     500     501     502     503     504     505     506     507     508     509     510     511     512     513     514     515     516     517     518     519     520     521     522     523     524     525     526     527     528     529     530     531     532     533     534     535     536     537     538     539     540     541     542     543     544     545     546     547     548     549     550     551     552     553     554     555     556     557     558     559     560     561     562     563     564     565     566     567     568     569     570     571     572     573     574     575     576     577     578     579     580     581     582     583     584     585     586     587     588     589     590     591     592     593     594     595     596     597     598     599     600     601     602     603     604     605     606     607     608     609     610     611     612     613     614     615     616     617     618     619     620     621    622    623    624    625    626    627     628     629     630     631     632    633    634    635    636    637     638    639    640    641    642    643    644    645    646    647    648    649    650    651    652    653    654    655     656     657     658     659    660    661    662    663    664    665     666    667    668    669    670     671     672     673     674     675     676     677     678     679     680     681     682     683     684     685     686     687     688     689     690     691     692     693     694     695     696     697     698     699     700     701     702     703     704     705     706     707     708     709     710     711     712     713     714     715     716     717     718     719     720     721     722     723     724     725     726     727     728     729     730     731     732     733     734     735     736     737     738     739     740     741     742     743     744     745     746     747     748     749     750     751     752     753     754     755     756     757     758     759     760     761     762     763     764     765     766     767     768     769     770     771     772     773     774     775     776     777     778     779     780     781     782     783     784     785     786     787     788     789     790     791     792     793     794     795     796     797     798     799     800     801     802    803    804    805    806    807    808     809     810     811     812     813    814    815    816    817    818     819    820    821    822    823    824    825    826    827    828    829    830    831    832    833    834    835    836     837     838     839     840    841    842    843    844    845    846     847    848    849    850    851     852     853     854     855     856     857     858     859     860     861     862     863     864     865     866     867     868     869     870     871     872     873     874     875     876     877     878     879     880     881     882     883     884     885     886     887     888     889     890     891     892     893     894     895     896     897     898     899     900     901     902     903     904     905     906     907     908     909     910     911     912     913     914     915     916     917     918     919     920     921     922     923     924     925     926     927     928     929     930     931     932     933     934     935     936     937     938     939     940     941     942     943     944     945     946     947     948     949     950     951     952     953     954     955     956     957     958     959     960     961     962     963     964     965     966     967     968     969     970     971     972     973     974     975     976     977     978     979     980     981     982     983    984    985    986    987    988    989     990     991     992     993     994    995    996    997    998    999     1000   1001   1002   1003   1004   1005   1006   1007   1008   1009   1010   1011   1012   1013   1014   1015   1016   1017    1018    1019    1020    1021   1022   1023   1024   1025   1026   1027    1028   1029   1030   1031   1032    1033    1034    1035    1036    1037    1038    1039    1040    1041    1042    1043    1044    1045    1046    1047    1048    1049    1050    1051    1052    1053    1054    1055    1056    1057    1058    1059    1060    1061    1062    1063    1064    1065    1066    1067    1068    1069    1070    1071    1072    1073    1074    1075    1076    1077    1078    1079    1080    1081    1082    1083    1084    1085    1086    1087    1088    1089    1090    1091    1092  \n",
              "4.8     4.4     2.4     3.3     4.4     10.0    9.2     6.6     7.3     6.3     6.2     5.6     6.4     7.0     7.1     7.6     12.0    9.5     9.4     8.4     8.5     10.3    10.2    12.7    11.2    10.1    12.1    10.8    9.8     15.2    12.2    11.7    13.3    15.7    13.7    13.6    14.9    18.1    14.4    17.9    17.7    17.9    17.7    16.7    16.7    17.0    17.9    17.8    18.3    18.5    20.0    21.7    21.4    21.9    20.1    20.3    20.7    23.8    23.2    24.3    22.0    22.8    21.7    21.6   25.3    23.7    26.8    23.2    24.7    24.8    25.9   29.2   28.0   30.5   29.3   30.2   24.8   26.7    26.6    28.8   25.7   29.1   30.2   28.8   27.8   24.6   24.8   25.3   27.3   27.8   27.2   27.6   27.8   28.4   26.9   27.9    27.2   24.6   25.8   28.2   26.8   25.8   24.2   23.9   26.3   24.8   26.2   26.9   25.9   27.5   27.4    25.3    25.8    25.4    27.2    26.1    24.8    26.0    24.4   24.8   27.8   26.8   27.6   25.9    25.6    27.0    25.9    25.0    25.8    24.1    25.8    25.8    25.9    23.4    25.2    24.0    25.3    24.0    24.3    23.8    25.6    23.2    24.3    24.8    24.8    22.8    23.0    21.1    19.5    17.6    17.3    17.5    18.5    18.0    16.7    18.4    16.3    13.6    14.0    14.5    12.4    11.0    11.2    10.0    11.4    10.4    10.2    13.8    15.0    12.5    10.0    9.8     9.2     9.1     9.5     10.8    8.2     9.4     10.8    11.6    12.5    7.5     6.2     6.5     10.9    9.2     5.0     5.2     4.4     6.5     7.0     8.9     9.6     8.6     9.0     11.5    9.4     9.9     10.1    10.0    10.8    6.8     8.9     15.1    9.6     7.0     5.6     11.0    9.2     7.1     8.2     9.0     10.3    12.5    13.0    12.0    10.0    10.5    11.0    12.8    14.0    12.8    12.0    12.6    16.2    15.0    14.5    16.5    19.1    19.6    17.0    16.8    17.7    18.0    21.0    19.5    17.5    22.6    21.5    20.5    20.0    19.2    18.6    20.6    22.1    21.5    24.2    26.2    26.2    24.2    25.2    21.4    18.0    19.0    23.0    24.0    26.5    24.8    23.2    21.4    24.0    25.0   25.6    25.0    26.5    30.8   28.6   30.1   22.7   25.5   28.0   28.4   31.0   32.7   25.3   23.5    28.8    27.0    25.5    26.1   26.8   28.6   29.6   29.2   25.9   28.5   25.4   26.5   27.2   26.5    27.6    28.1    28.2   28.1   28.4   27.0   29.0   27.6   27.0    27.0   25.4   27.6   27.0    28.0    28.0    27.5    29.0    27.5    25.0    24.6    26.3    26.0    25.7    26.4    26.8    23.5    24.6    22.5    25.3    26.0    25.2    24.2    24.0    25.4    24.3    24.6    24.4    24.5    24.9    22.2    18.6    21.4    19.6    16.5    16.6    18.0    18.6    19.4    19.5    16.0    16.6    15.8    15.0    16.6    17.1    17.2    11.7    9.0     10.6    8.5     11.7    9.8     8.0     9.0     11.4    13.8    14.0    10.5    10.2    10.4    13.2    10.4    7.4     7.2     5.6     6.0     6.3     4.8     8.8     10.2    13.6    6.4     7.2     6.8     4.0     9.0     5.8     9.4     9.8     9.5     8.5     11.6    9.8     7.2     6.7     10.4    13.0    7.4     9.3     10.5    9.3     10.6    11.2    17.0    18.0    15.2    18.4    14.5    11.1    15.2    14.6    12.8    12.5    14.0    13.3    14.2    15.8    16.0    14.0    14.5    15.8    18.5    20.3    20.4    19.0    20.3    21.0    19.0    19.2    18.2    18.6    19.0    20.0    20.8    21.6    26.0    25.4    22.2    22.8    23.5    24.2    23.6    21.7    27.6    27.0    25.7    23.8    22.0    24.2    24.9    22.4    27.0    28.0   24.4   24.8    28.9    23.5    22.2    23.6    26.0   27.7   30.0   28.0   20.5    25.5   29.0   27.2   25.3   22.4   24.0   27.0   25.0    27.0    27.6   23.3   24.8   25.2   23.3    26.4   27.0   26.0   24.4   25.7   27.3   27.0   24.6    25.0   25.4    25.0    25.4    26.4   25.3    25.0    28.0    28.6    25.8    27.7    27.6    27.0    28.0    28.1    28.4    28.0    27.5    27.6    26.6    26.8    26.4    27.3    26.8    27.5    26.0    27.2    26.2    23.5    23.7    25.0    21.5    22.7    23.2    21.8    25.0    22.9    21.5    21.9    22.9    21.0    18.3    20.3    18.5    15.6    16.2    17.3    18.6    16.1    17.1    16.1    16.1    16.5    11.5    11.4    11.5    13.0    11.9    13.5    13.8    13.5    11.2    11.0    12.0    11.6    6.8     6.0     7.0     6.8     0.0     5.6     5.5     5.5     7.6     6.6     7.7     8.0     11.5    12.0    10.2    12.0    10.9    9.6     8.9     7.5     6.7     6.4     6.8     9.0     12.2    8.4     6.6     8.0     10.7    9.0     10.1    11.5    9.7     10.1    15.6    18.7    15.8    11.5    12.8    13.0    15.0    15.2    15.7    15.8    17.0    15.6    16.8    17.1    14.5    19.0    19.0    19.5    18.2    19.7    19.5    19.5    21.6    21.5    24.8    21.5    18.8    19.0    23.2    24.0    23.0    26.3    25.8    24.8    21.2    22.2    22.2    22.0    23.8    28.0    25.0    25.3    27.6    27.5    27.0    27.4    28.6   31.2   30.7   27.4   26.0   30.6   24.7    26.6    30.7    28.7    28.7    28.6   30.0   27.6   26.0   30.5   30.0    26.0   27.0   31.2   29.6   26.0   25.4   24.4   25.7   28.8   28.8   27.8   27.8   26.7   26.0   26.2   28.5   29.0   28.3    27.6    26.8    26.0    26.4   26.0   26.2   26.4   28.6   28.0   25.5    26.0   27.0   26.4   27.6   26.1    26.8    26.8    24.0    25.2    25.5    25.0    25.0    26.0    26.7    25.7    26.0    25.3    27.0    25.6    26.0    26.5    27.5    24.7    23.0    22.5    19.8    19.0    17.5    17.6    18.6    19.0    19.5    18.4    16.5    15.5    14.2    15.8    14.5    14.0    15.6    12.2    13.6    12.1    10.6    10.5    10.7    10.8    16.5    13.6    12.7    11.9    11.5    11.7    11.2    8.7     7.7     10.5    10.5    10.0    6.6     11.2    10.7    11.4    9.8     9.0     6.6     7.7     8.0     11.5    12.0    10.2    12.0    10.9    9.6     8.9     7.5     6.7     6.4     6.8     9.0     12.2    8.4     6.6     8.0     10.7    9.0     10.1    11.5    9.7     10.1    15.6    18.7    15.8    11.5    12.8    13.0    15.0    15.2    15.7    15.8    17.0    15.6    16.8    17.1    14.5    19.0    19.0    19.5    18.2    19.7    19.5    19.5    21.6    21.5    24.8    21.5    18.8    19.0    23.2    24.0    23.0    26.3    25.8    24.8    21.2    22.2    22.2    22.0    23.8    28.0    25.0    25.3    27.6    27.5    27.0    27.4    28.6   31.2   30.7   27.4   26.0   30.6   24.7    26.6    30.7    28.7    28.7    28.6   30.0   27.6   26.0   30.5   30.0    26.0   27.0   31.2   29.6   26.0   25.4   24.4   25.7   28.8   28.8   27.8   27.8   26.7   26.0   26.2   28.5   29.0   28.3    27.6    26.8    26.0    26.4   26.0   26.2   26.4   28.6   28.0   25.5    26.0   27.0   26.4   27.6   26.1    26.8    26.8    24.0    25.2    25.5    25.0    25.0    26.0    26.7    25.7    26.0    25.3    27.0    25.6    26.0    26.5    27.5    24.7    23.0    22.5    19.8    19.0    17.5    17.6    18.6    19.0    19.5    18.4    16.5    15.5    14.2    15.8    14.5    14.0    15.6    12.2    13.6    12.1    10.6    10.5    10.7    10.8    16.5    13.6    12.7    11.9    11.5    11.7    11.2    8.7     7.7     10.5    10.5    10.0    6.6     11.2    10.7    11.4    9.8     9.0     6.6     7.7     8.0     11.5    12.0    10.2    12.0    10.9    9.6     8.9     7.5     6.7     6.4     6.8     9.0     12.2    8.4     6.6     8.0     10.7    9.0     10.1    11.5    9.7     10.1    15.6    18.7    15.8    11.5    12.8    13.0    15.0    15.2    15.7    15.8    17.0    15.6    16.8    17.1    14.5    19.0    19.0    19.5    18.2    19.7    19.5    19.5    21.6    21.5    24.8    21.5    18.8    19.0    23.2    24.0    23.0    26.3    25.8    24.8    21.2    22.2    22.2    22.0    23.8    28.0    25.0    25.3    27.6    27.5    27.0    27.4    28.6   31.2   30.7   27.4   26.0   30.6   24.7    26.6    30.7    28.7    28.7    28.6   30.0   27.6   26.0   30.5   30.0    26.0   27.0   31.2   29.6   26.0   25.4   24.4   25.7   28.8   28.8   27.8   27.8   26.7   26.0   26.2   28.5   29.0   28.3    27.6    26.8    26.0    26.4   26.0   26.2   26.4   28.6   28.0   25.5    26.0   27.0   26.4   27.6   26.1    26.8    26.8    24.0    25.2    25.5    25.0    25.0    26.0    26.7    25.7    26.0    25.3    27.0    25.6    26.0    26.5    27.5    24.7    23.0    22.5    19.8    19.0    17.5    17.6    18.6    19.0    19.5    18.4    16.5    15.5    14.2    15.8    14.5    14.0    15.6    12.2    13.6    12.1    10.6    10.5    10.7    10.8    16.5    13.6    12.7    11.9    11.5    11.7    11.2    8.7     7.7     10.5    10.5    10.0    6.6     11.2    10.7    11.4    9.8     9.0       1\n",
              "7.4     7.8     6.7     8.6     12.4    16.0    13.4    14.3    12.7    11.9    12.2    13.4    12.3    13.7    14.9    15.0    16.3    18.7    14.6    14.7    14.8    17.4    18.1    18.3    16.4    16.9    19.3    17.2    17.7    20.4    18.2    19.0    18.7    22.6    22.5    24.0    23.8    22.6    23.0    24.6    27.1    26.1    23.6    23.2    23.8    24.7    25.6    25.7    25.1    29.5    29.2    31.1    29.8    28.2    28.3    29.3    30.5    28.0    31.1    29.9    31.4    31.4    29.9    29.7   32.8    34.1    34.1    30.9    32.9    30.6    36.2   36.2   36.8   37.7   36.2   35.6   33.6   31.9    32.4    34.1   34.1   34.2   35.1   30.3   30.4   29.8   29.7   33.0   35.6   31.0   31.2   31.2   33.9   32.8   31.6   31.1    30.3   29.2   31.8   31.1   31.7   30.9   26.8   29.1   28.5   30.4   30.0   29.0   31.1   31.8   32.2    28.4    28.1    27.4    30.1    29.7    27.7    28.4    27.4   29.2   30.4   32.1   32.0   29.1    30.2    31.7    31.6    30.9    29.6    29.3    30.6    31.2    31.6    29.9    28.7    26.3    28.6    28.6    29.0    29.1    28.9    27.9    29.4    30.1    30.1    27.4    27.5    26.6    25.6    25.0    24.8    24.1    24.3    23.0    24.1    23.8    22.4    20.9    20.1    18.9    19.1    17.8    17.6    17.0    17.8    18.2    18.0    21.1    21.3    19.0    18.1    17.2    17.4    16.0    16.2    16.5    15.4    15.5    16.3    15.4    14.6    13.6    12.3    11.9    14.3    13.2    11.1    12.7    11.9    11.7    13.9    14.9    12.0    14.5    14.6    13.4    11.7    14.3    16.6    14.8    13.9    15.3    18.6    19.7    13.8    12.7    15.3    13.1    12.6    15.1    16.1    17.2    17.9    18.9    18.6    16.3    16.1    17.8    18.4    19.8    22.3    18.9    19.7    21.4    21.7    21.5    22.4    24.6    25.2    23.4    24.2    24.9    26.8    25.1    27.2    25.8    25.7    27.0    27.7    29.1    25.6    26.8    28.1    30.5    31.5    30.6    34.8    34.5    31.8    31.8    32.2    30.7    25.2    26.9    29.7    32.3    31.9    32.8    32.4    30.0    31.8    34.6   32.9    32.8    34.8    38.5   37.8   37.9   30.3   30.5   33.9   35.6   37.9   36.9   33.3   32.4    34.7    31.2    29.5    28.9   34.0   34.9   35.9   33.3   32.4   33.2   29.8   30.8   32.1   30.7    32.5    31.7    32.5   33.3   30.3   31.4   31.0   30.9   30.9    32.0   30.5   31.2   33.0    33.3    32.6    33.7    34.1    34.1    27.5    29.5    29.4    28.5    30.9    31.2    30.8    29.3    29.0    29.8    31.0    31.0    30.4    30.0    30.1    30.7    31.0    30.3    30.7    30.9    29.6    27.6    27.6    24.4    24.5    23.8    24.7    25.4    25.4    25.1    24.9    23.2    22.5    22.7    23.4    23.9    24.0    24.2    18.5    18.3    18.6    17.6    18.4    17.2    16.4    17.4    20.1    20.1    20.3    17.2    17.1    15.8    15.0    14.2    11.7    11.3    9.5     9.3     10.8    10.4    14.9    14.7    15.0    9.8     10.1    10.5    12.3    12.1    12.3    13.9    13.4    13.3    13.1    13.7    13.3    13.8    15.1    17.3    16.7    15.7    16.7    16.9    17.2    19.3    18.9    22.9    22.8    21.9    23.2    20.0    19.2    17.3    17.4    16.1    18.6    19.4    18.1    21.3    21.6    17.7    21.1    22.5    24.9    26.8    28.6    27.7    25.1    26.4    28.7    24.4    23.9    25.2    25.8    24.9    26.4    27.6    32.0    32.8    31.8    30.4    28.8    30.2    31.2    30.2    30.9    35.7    34.1    35.1    28.3    29.9    28.7    31.4    33.2    35.8    37.8   35.3   33.8    35.3    30.1    31.6    28.7    35.1   36.3   37.6   31.9   27.0    30.8   35.9   33.0   30.4   26.5   31.5   32.7   31.9    33.8    33.4   28.3   31.2   29.7   29.9    31.1   33.4   30.1   29.1   31.5   31.3   30.0   29.7    28.9   28.4    29.8    31.6    29.4   28.8    27.5    31.9    30.9    31.6    30.9    29.5    32.0    31.9    32.4    32.2    32.1    31.9    31.4    31.5    31.9    31.0    32.2    31.8    32.9    30.4    29.1    30.2    28.4    29.4    28.6    28.1    28.6    28.5    28.6    29.6    28.2    27.6    28.2    27.7    26.6    26.4    25.4    24.7    22.3    22.9    23.4    23.9    21.9    21.9    22.1    22.3    22.4    18.5    18.6    18.8    19.3    20.0    18.4    19.3    17.9    17.6    17.8    20.2    19.2    14.8    14.6    15.2    14.4    12.6    13.7    13.3    14.4    16.3    16.9    15.5    14.9    18.3    16.5    16.6    18.2    15.6    13.0    12.3    11.9    12.0    11.7    14.6    17.7    17.4    15.9    15.2    12.7    15.6    17.1    17.6    17.2    17.7    17.4    23.1    23.7    20.9    22.6    22.7    22.7    25.0    24.9    26.8    23.7    23.4    24.3    24.3    22.4    24.1    26.8    27.1    26.5    29.8    24.7    26.2    29.9    30.4    32.3    33.4    29.5    29.3    30.9    31.6    33.1    33.6    34.0    33.9    33.3    33.4    33.2    34.0    34.7    38.0    35.4    33.2    35.1    33.8    37.1    36.5    37.3    37.3   37.3   36.2   32.9   34.6   37.4   32.7    36.0    37.7    37.6    34.6    35.9   35.7   36.0   32.6   34.7   35.6    31.1   32.9   35.5   34.9   34.4   32.2   28.4   29.6   33.6   30.7   33.3   31.1   30.4   31.0   32.4   34.1   34.1   31.9    30.3    28.3    29.2    29.1   30.9   32.6   33.3   33.4   31.2   29.9    29.0   31.3   31.7   32.6   31.2    31.0    30.8    27.3    27.8    30.7    30.7    31.1    31.3    31.4    30.4    31.7    32.5    32.6    30.7    31.4    31.9    32.4    30.3    29.9    30.0    28.6    28.3    26.8    27.6    27.7    27.3    27.2    26.4    25.4    23.7    23.4    22.6    23.9    23.2    22.5    21.7    22.2    20.8    20.7    20.8    22.0    21.4    24.2    22.7    21.4    19.2    18.9    19.3    17.8    15.8    18.2    19.0    18.0    17.2    16.3    18.1    17.8    13.9    16.3    16.3    16.9    15.5    14.9    18.3    16.5    16.6    18.2    15.6    13.0    12.3    11.9    12.0    11.7    14.6    17.7    17.4    15.9    15.2    12.7    15.6    17.1    17.6    17.2    17.7    17.4    23.1    23.7    20.9    22.6    22.7    22.7    25.0    24.9    26.8    23.7    23.4    24.3    24.3    22.4    24.1    26.8    27.1    26.5    29.8    24.7    26.2    29.9    30.4    32.3    33.4    29.5    29.3    30.9    31.6    33.1    33.6    34.0    33.9    33.3    33.4    33.2    34.0    34.7    38.0    35.4    33.2    35.1    33.8    37.1    36.5    37.3    37.3   37.3   36.2   32.9   34.6   37.4   32.7    36.0    37.7    37.6    34.6    35.9   35.7   36.0   32.6   34.7   35.6    31.1   32.9   35.5   34.9   34.4   32.2   28.4   29.6   33.6   30.7   33.3   31.1   30.4   31.0   32.4   34.1   34.1   31.9    30.3    28.3    29.2    29.1   30.9   32.6   33.3   33.4   31.2   29.9    29.0   31.3   31.7   32.6   31.2    31.0    30.8    27.3    27.8    30.7    30.7    31.1    31.3    31.4    30.4    31.7    32.5    32.6    30.7    31.4    31.9    32.4    30.3    29.9    30.0    28.6    28.3    26.8    27.6    27.7    27.3    27.2    26.4    25.4    23.7    23.4    22.6    23.9    23.2    22.5    21.7    22.2    20.8    20.7    20.8    22.0    21.4    24.2    22.7    21.4    19.2    18.9    19.3    17.8    15.8    18.2    19.0    18.0    17.2    16.3    18.1    17.8    13.9    16.3    16.3    16.9    15.5    14.9    18.3    16.5    16.6    18.2    15.6    13.0    12.3    11.9    12.0    11.7    14.6    17.7    17.4    15.9    15.2    12.7    15.6    17.1    17.6    17.2    17.7    17.4    23.1    23.7    20.9    22.6    22.7    22.7    25.0    24.9    26.8    23.7    23.4    24.3    24.3    22.4    24.1    26.8    27.1    26.5    29.8    24.7    26.2    29.9    30.4    32.3    33.4    29.5    29.3    30.9    31.6    33.1    33.6    34.0    33.9    33.3    33.4    33.2    34.0    34.7    38.0    35.4    33.2    35.1    33.8    37.1    36.5    37.3    37.3   37.3   36.2   32.9   34.6   37.4   32.7    36.0    37.7    37.6    34.6    35.9   35.7   36.0   32.6   34.7   35.6    31.1   32.9   35.5   34.9   34.4   32.2   28.4   29.6   33.6   30.7   33.3   31.1   30.4   31.0   32.4   34.1   34.1   31.9    30.3    28.3    29.2    29.1   30.9   32.6   33.3   33.4   31.2   29.9    29.0   31.3   31.7   32.6   31.2    31.0    30.8    27.3    27.8    30.7    30.7    31.1    31.3    31.4    30.4    31.7    32.5    32.6    30.7    31.4    31.9    32.4    30.3    29.9    30.0    28.6    28.3    26.8    27.6    27.7    27.3    27.2    26.4    25.4    23.7    23.4    22.6    23.9    23.2    22.5    21.7    22.2    20.8    20.7    20.8    22.0    21.4    24.2    22.7    21.4    19.2    18.9    19.3    17.8    15.8    18.2    19.0    18.0    17.2    16.3    18.1    17.8    13.9    16.3    16.3      1\n",
              "9.8     12.7    13.4    15.5    20.9    25.2    21.0    22.6    18.9    18.9    19.9    21.1    21.4    22.0    21.9    24.0    24.0    26.3    21.6    21.7    22.6    25.4    26.7    23.2    22.0    23.5    26.9    24.2    26.5    28.4    26.1    26.8    27.8    30.6    31.8    33.8    33.0    33.0    30.0    31.7    34.8    34.8    34.3    29.6    30.9    31.5    33.8    36.0    36.0    37.0    37.5    37.8    36.6    36.6    36.4    37.9    38.6    38.6    38.5    38.5    37.8    39.2    38.8    38.3   40.8    42.0    42.0    37.6    39.8    37.4    44.6   44.6   45.1   45.0   43.6   42.6   40.6   40.6    38.5    40.3   43.2   39.8   40.2   39.2   38.6   38.6   35.5   38.4   41.0   39.4   35.7   37.1   39.2   37.6   37.6   35.0    35.8   35.4   36.7   37.2   37.2   35.4   35.4   33.8   34.4   35.1   35.5   33.7   34.9   36.0   36.1    30.6    30.8    30.8    34.6    34.9    30.7    33.1    33.5   34.4   36.5   36.7   35.5   34.2    35.6    35.9    36.3    35.6    34.2    35.0    36.0    36.4    36.8    36.2    34.1    34.1    35.6    34.5    34.2    34.0    34.9    33.7    34.5    34.5    35.6    33.1    32.5    32.6    33.2    32.8    32.3    30.0    31.4    31.0    30.1    30.5    28.6    28.1    27.1    27.1    25.6    26.2    25.6    26.6    26.9    28.1    28.5    28.8    28.8    28.8    28.0    28.4    28.4    26.1    25.3    24.5    24.9    24.9    22.4    19.7    15.9    20.4    20.6    17.1    19.2    18.2    18.3    19.8    20.7    20.7    21.6    22.1    22.1    21.0    22.3    22.3    18.2    20.3    24.0    21.1    21.1    24.4    27.8    26.4    26.4    19.5    22.6    22.6    17.7    23.3    24.5    24.6    25.2    26.2    25.3    21.3    21.8    25.7    25.9    27.1    29.0    27.1    27.6    29.7    28.4    29.2    32.5    32.7    32.7    29.1    30.8    33.2    35.2    35.2    38.0    32.2    32.8    37.2    34.5    36.5    32.3    33.6    35.8    38.8    38.8    38.7    42.8    41.7    41.7    38.6    39.5    39.5    30.6    32.1    35.4    39.1    38.8    38.6    40.6    36.4    38.8    42.8   41.6    39.9    41.7    44.9   45.1   45.5   41.1   37.1   40.6   41.4   43.0   41.7   39.0   38.1    39.9    35.2    36.6    36.6   38.8   40.3   40.5   42.3   40.2   39.0   33.6   34.6   35.8   33.9    37.5    37.5    36.5   37.7   35.3   36.6   34.0   35.0   35.4    36.6   36.2   35.7   37.0    38.4    38.4    39.1    39.4    39.4    34.8    35.3    35.3    33.2    34.7    36.0    36.0    34.1    34.8    34.9    36.3    36.3    36.2    35.8    35.7    36.3    36.9    36.9    37.0    37.2    35.2    34.6    34.5    33.6    30.4    31.5    32.3    33.3    33.1    32.3    32.6    32.1    29.3    31.1    31.2    31.7    32.1    31.6    27.6    27.6    27.5    28.8    28.8    27.8    26.6    26.7    30.0    29.0    28.1    27.4    26.3    22.3    20.8    20.0    17.6    17.5    17.5    16.0    17.0    19.2    21.6    21.6    16.8    17.6    14.5    16.3    18.3    18.3    19.0    21.6    20.7    17.5    18.3    18.3    18.4    21.5    24.0    23.8    23.8    25.6    25.6    25.5    25.5    28.6    28.6    29.3    29.3    29.1    28.6    27.6    27.6    19.0    22.1    22.1    27.3    27.6    24.1    28.3    27.3    27.3    28.3    30.2    31.7    35.1    36.5    35.6    30.8    32.5    34.7    34.7    31.4    32.2    32.5    32.2    32.5    34.3    40.6    40.6    39.6    39.1    37.1    37.1    39.4    37.6    38.9    42.7    42.7    42.7    38.7    35.9    35.8    41.5    41.5    42.6    45.5   45.5   45.0    40.6    40.6    39.9    34.1    42.5   42.9   42.4   41.6   39.7    34.9   41.6   42.3   34.4   36.8   36.8   38.0   37.8    38.9    39.8   33.6   35.8   35.8   33.7    35.6   37.0   34.7   34.7   35.7   36.5   36.6   34.7    31.6   32.6    33.9    35.5    34.4   34.4    30.8    35.8    35.8    35.6    35.5    34.5    35.6    36.2    36.9    36.8    36.6    36.6    36.5    36.9    36.9    36.7    37.9    37.9    38.0    35.9    34.8    36.5    33.9    35.1    35.2    35.3    35.6    35.4    36.0    35.5    34.9    34.9    36.1    36.2    36.2    34.4    34.4    33.3    29.8    31.4    31.8    31.8    30.2    29.0    29.8    29.3    29.8    27.7    27.7    28.5    28.0    29.1    29.1    28.0    26.2    24.6    26.2    27.0    26.9    21.0    21.3    22.2    21.1    21.0    21.0    19.3    21.5    22.5    25.1    24.1    22.8    24.7    24.7    22.2    25.1    23.2    19.0    19.0    15.7    17.0    18.0    21.0    24.0    27.2    22.4    22.6    19.5    24.6    23.2    24.0    26.0    24.4    24.4    30.0    29.8    27.8    30.3    30.4    30.6    31.0    32.4    33.4    29.1    29.1    29.0    31.0    29.5    29.2    33.0    33.0    32.8    36.2    36.6    32.0    37.0    37.5    39.0    39.1    36.9    36.0    37.0    38.0    39.0    40.0    40.6    39.6    39.4    40.0    40.3    40.7    41.5    44.0    44.0    38.0    39.2    39.8    42.0    43.0    42.4    43.7   42.8   41.5   39.0   39.0   41.0   37.5    40.0    42.0    43.0    40.3    41.0   41.2   41.0   40.7   38.0   40.0    40.1   38.6   39.9   39.6   39.4   39.8   36.6   32.0   36.7   36.9   37.0   34.2   35.4   35.2   35.2   37.0   37.2   35.0    35.0    35.8    31.0    32.6   35.0   36.0   36.0   36.5   36.7   34.0    33.7   34.5   34.0   36.0   35.9    35.0    35.2    33.3    31.0    34.0    34.0    35.0    35.0    36.0    35.6    37.1    37.2    37.4    34.8    35.2    36.0    36.4    35.0    35.0    36.0    35.0    35.2    35.2    35.0    35.0    35.0    34.5    33.0    33.4    31.7    31.1    30.6    32.0    30.2    29.5    30.0    30.2    29.3    28.8    29.0    31.0    30.6    31.0    30.8    29.6    25.9    25.8    27.0    24.8    24.3    27.0    27.1    26.6    24.2    23.0    24.0    25.0    24.5    23.0    23.4    25.1    24.1    22.8    24.7    24.7    22.2    25.1    23.2    19.0    19.0    15.7    17.0    18.0    21.0    24.0    27.2    22.4    22.6    19.5    24.6    23.2    24.0    26.0    24.4    24.4    30.0    29.8    27.8    30.3    30.4    30.6    31.0    32.4    33.4    29.1    29.1    29.0    31.0    29.5    29.2    33.0    33.0    32.8    36.2    36.6    32.0    37.0    37.5    39.0    39.1    36.9    36.0    37.0    38.0    39.0    40.0    40.6    39.6    39.4    40.0    40.3    40.7    41.5    44.0    44.0    38.0    39.2    39.8    42.0    43.0    42.4    43.7   42.8   41.5   39.0   39.0   41.0   37.5    40.0    42.0    43.0    40.3    41.0   41.2   41.0   40.7   38.0   40.0    40.1   38.6   39.9   39.6   39.4   39.8   36.6   32.0   36.7   36.9   37.0   34.2   35.4   35.2   35.2   37.0   37.2   35.0    35.0    35.8    31.0    32.6   35.0   36.0   36.0   36.5   36.7   34.0    33.7   34.5   34.0   36.0   35.9    35.0    35.2    33.3    31.0    34.0    34.0    35.0    35.0    36.0    35.6    37.1    37.2    37.4    34.8    35.2    36.0    36.4    35.0    35.0    36.0    35.0    35.2    35.2    35.0    35.0    35.0    34.5    33.0    33.4    31.7    31.1    30.6    32.0    30.2    29.5    30.0    30.2    29.3    28.8    29.0    31.0    30.6    31.0    30.8    29.6    25.9    25.8    27.0    24.8    24.3    27.0    27.1    26.6    24.2    23.0    24.0    25.0    24.5    23.0    23.4    25.1    24.1    22.8    24.7    24.7    22.2    25.1    23.2    19.0    19.0    15.7    17.0    18.0    21.0    24.0    27.2    22.4    22.6    19.5    24.6    23.2    24.0    26.0    24.4    24.4    30.0    29.8    27.8    30.3    30.4    30.6    31.0    32.4    33.4    29.1    29.1    29.0    31.0    29.5    29.2    33.0    33.0    32.8    36.2    36.6    32.0    37.0    37.5    39.0    39.1    36.9    36.0    37.0    38.0    39.0    40.0    40.6    39.6    39.4    40.0    40.3    40.7    41.5    44.0    44.0    38.0    39.2    39.8    42.0    43.0    42.4    43.7   42.8   41.5   39.0   39.0   41.0   37.5    40.0    42.0    43.0    40.3    41.0   41.2   41.0   40.7   38.0   40.0    40.1   38.6   39.9   39.6   39.4   39.8   36.6   32.0   36.7   36.9   37.0   34.2   35.4   35.2   35.2   37.0   37.2   35.0    35.0    35.8    31.0    32.6   35.0   36.0   36.0   36.5   36.7   34.0    33.7   34.5   34.0   36.0   35.9    35.0    35.2    33.3    31.0    34.0    34.0    35.0    35.0    36.0    35.6    37.1    37.2    37.4    34.8    35.2    36.0    36.4    35.0    35.0    36.0    35.0    35.2    35.2    35.0    35.0    35.0    34.5    33.0    33.4    31.7    31.1    30.6    32.0    30.2    29.5    30.0    30.2    29.3    28.8    29.0    31.0    30.6    31.0    30.8    29.6    25.9    25.8    27.0    24.8    24.3    27.0    27.1    26.6    24.2    23.0    24.0    25.0    24.5    23.0    23.4      1\n",
              "1017.6  1018.5  1019.4  1018.7  1017.3  1013.2  1015.1  1016.3  1021.2  1020.1  1021.0  1020.0  1019.6  1018.2  1018.3  1017.4  1017.2  1015.3  1018.4  1017.1  1016.8  1015.8  1013.8  1011.2  1015.5  1016.8  1015.6  1018.3  1015.3  1014.7  1016.3  1016.3  1016.2  1015.4  1014.6  1009.7  1010.4  1013.1  1016.1  1008.5  1009.7  1008.8  1010.4  1008.6  1009.0  1008.6  1008.7  1009.0  1009.5  1005.2  1006.1  1005.6  1007.8  1007.1  1004.0  1002.9  1003.4  1007.3  1007.7  1008.3  1006.9  1002.9  1000.8  999.3  1002.0  1001.4  1000.8  1003.7  1001.0  1000.8  999.2  999.1  999.1  998.1  998.4  999.3  998.8  1002.0  1001.0  999.7  997.9  996.7  995.2  998.6  997.7  997.9  999.0  997.6  995.5  999.2  998.4  996.8  995.2  995.8  997.5  1000.1  997.5  996.4  998.8  997.5  998.3  995.0  999.0  996.3  995.5  995.2  997.5  996.5  998.2  999.6  1000.8  1001.8  1000.6  1000.8  1000.0  1000.3  1001.8  1000.0  999.1  999.0  999.3  998.1  999.8  1003.4  1003.6  1003.6  1002.7  1004.8  1007.3  1007.6  1007.2  1004.4  1001.5  1002.5  1002.9  1003.4  1005.4  1006.7  1005.8  1007.8  1009.5  1008.4  1009.1  1010.0  1010.5  1008.0  1007.1  1008.8  1011.5  1010.8  1009.7  1011.2  1011.2  1010.6  1014.0  1013.5  1014.6  1016.0  1015.5  1015.2  1016.6  1014.3  1015.2  1016.5  1015.4  1012.6  1013.2  1012.8  1011.9  1014.7  1016.1  1015.8  1016.6  1014.4  1013.4  1012.2  1012.8  1015.1  1012.8  1016.0  1016.9  1020.7  1019.4  1018.6  1020.5  1021.0  1020.2  1017.9  1017.9  1017.3  1019.6  1017.2  1019.7  1023.2  1021.2  1020.6  1019.9  1019.1  1018.8  1019.3  1019.8  1016.9  1014.4  1009.3  1011.3  1012.0  1013.6  1011.8  1012.6  1016.7  1014.8  1014.2  1017.4  1014.4  1013.3  1015.1  1017.1  1016.3  1017.0  1017.2  1014.6  1016.1  1015.2  1016.4  1013.1  1010.8  1007.2  1010.6  1010.7  1011.7  1008.2  1006.2  1005.7  1010.4  1009.7  1010.3  1010.3  1009.8  1010.6  1009.2  1011.4  1010.5  1010.0  1006.0  1006.2  1007.0  1001.7  1001.8  1003.7  1004.3  1002.1  1000.5  1008.2  1006.6  1004.1  1006.6  1006.0  1002.3  1005.2  1007.2  1004.8  999.6  1003.0  1003.3  1000.0  994.0  993.3  993.1  997.7  997.3  997.0  993.2  991.5  994.0  997.7  1000.8  1001.5  1000.9  1000.9  998.4  998.1  996.8  996.3  997.8  997.2  996.2  995.1  996.6  996.1  1000.8  1001.9  1002.1  999.9  998.0  996.9  995.3  996.8  998.4  1000.3  998.1  997.3  999.0  1004.8  1002.5  1001.3  1002.6  1001.5  1001.1  1001.0  1001.1  1001.7  1001.3  1003.5  1003.3  1002.5  1004.1  1004.3  1004.2  1003.5  1002.8  1003.6  1007.7  1008.1  1009.2  1010.1  1009.1  1008.1  1008.3  1009.9  1010.0  1009.8  1011.0  1014.8  1012.5  1013.3  1014.5  1012.3  1014.9  1013.7  1013.7  1014.0  1014.5  1013.4  1012.9  1014.6  1015.3  1016.6  1016.4  1014.8  1016.6  1014.9  1014.1  1015.0  1011.2  1013.8  1014.3  1013.6  1014.9  1015.1  1016.2  1016.8  1019.2  1022.3  1018.8  1018.1  1020.0  1017.7  1018.6  1017.4  1018.1  1017.5  1016.6  1019.2  1020.1  1017.1  1017.5  1019.3  1019.0  1020.1  1021.2  1020.6  1019.9  1019.3  1018.0  1017.6  1017.5  1020.7  1016.9  1017.5  1019.9  1012.8  1009.5  1012.8  1012.4  1013.7  1014.1  1008.5  1009.8  1013.0  1011.0  1012.6  1013.8  1014.0  1015.2  1021.1  1014.7  1015.3  1015.3  1014.8  1014.8  1014.8  1011.7  1012.4  1011.7  1010.4  1007.4  1004.7  1004.6  1010.2  1012.0  1010.3  1013.7  1012.8  1013.0  1003.9  1005.8  1005.6  1005.9  1008.0  1006.7  1005.8  1006.3  1006.7  1003.4  1003.2  1001.6  1006.5  1007.4  1006.5  1002.2  1002.0  1000.4  996.7  999.2  1001.3  1000.7  1002.2  1003.4  1004.3  999.4  998.7  998.8  998.8  1000.2  999.4  996.7  997.8  997.0  994.9  994.7  996.9  1001.8  1001.1  999.7  998.4  998.6  998.9  1000.6  998.5  994.1  997.7  999.2  999.9  999.3  998.8  1000.2  999.7  1002.7  1003.5  1001.9  999.9  1001.7  1000.2  1001.8  1001.8  1002.7  1001.5  1002.0  1000.9  1001.1  1001.9  1002.0  1000.8  1001.7  1005.5  1005.7  1005.8  1005.7  1005.8  1003.5  1003.3  1003.6  1003.4  1002.3  1003.8  1005.3  1007.2  1011.8  1009.0  1007.3  1004.3  1011.0  1012.7  1013.6  1011.7  1009.9  1012.0  1012.8  1015.0  1014.0  1016.0  1016.1  1015.8  1014.2  1014.8  1016.0  1015.0  1014.9  1012.0  1017.6  1016.4  1015.4  1014.7  1012.6  1011.4  1014.7  1016.2  1016.1  1017.1  1015.8  1015.4  1016.4  1017.1  1016.5  1019.1  1018.9  1018.8  1021.9  1021.0  1020.6  1021.3  1021.0  1018.4  1018.1  1017.4  1015.4  1014.4  1015.6  1016.9  1015.8  1018.9  1019.8  1017.3  1015.6  1014.5  1016.4  1017.6  1018.2  1017.6  1015.7  1017.1  1014.8  1014.7  1017.0  1018.9  1014.9  1014.0  1014.4  1015.4  1017.7  1018.4  1015.7  1015.0  1014.5  1011.9  1011.4  1011.7  1010.8  1014.1  1014.4  1008.8  1009.9  1010.5  1012.7  1012.8  1012.5  1008.3  1006.3  1007.3  1008.0  1007.2  1008.8  1008.9  1002.6  1003.0  1003.8  1005.5  1002.7  1000.7  1006.3  1005.1  1004.6  1001.7  1001.1  1003.2  1004.6  1005.1  1005.5  1000.7  1001.8  1002.4  997.4  996.2  995.3  996.6  998.4  998.8  1002.3  1001.7  1000.9  1001.2  1001.1  998.6  997.6  997.7  996.9  995.4  1000.7  999.8  999.7  999.7  999.6  998.3  995.4  998.1  997.6  996.7  996.8  996.2  997.8  997.8  997.9  999.0  998.5  998.4  1001.3  1002.6  1003.9  1000.0  998.6  997.4  997.8  999.7  999.9  997.8  1000.2  999.1  997.6  999.0  999.6  1000.4  1004.1  1005.0  1002.4  1001.3  1000.1  1000.5  1003.1  1004.6  1006.7  1006.5  1003.2  1003.0  1005.8  1004.5  1005.8  1007.2  1007.8  1007.3  1006.3  1004.9  1008.2  1009.4  1010.4  1007.6  1006.9  1007.8  1009.0  1012.4  1014.3  1017.7  1016.0  1015.4  1015.6  1012.6  1013.3  1014.5  1015.6  1016.7  1017.8  1013.9  1013.2  1011.9  1013.0  1012.0  1013.7  1017.0  1017.9  1019.6  1017.0  1015.8  1013.7  1015.1  1017.1  1017.2  1016.9  1015.4  1015.8  1015.0  1016.9  1017.3  1021.3  1021.0  1018.4  1018.1  1017.4  1015.4  1014.4  1015.6  1016.9  1015.8  1018.9  1019.8  1017.3  1015.6  1014.5  1016.4  1017.6  1018.2  1017.6  1015.7  1017.1  1014.8  1014.7  1017.0  1018.9  1014.9  1014.0  1014.4  1015.4  1017.7  1018.4  1015.7  1015.0  1014.5  1011.9  1011.4  1011.7  1010.8  1014.1  1014.4  1008.8  1009.9  1010.5  1012.7  1012.8  1012.5  1008.3  1006.3  1007.3  1008.0  1007.2  1008.8  1008.9  1002.6  1003.0  1003.8  1005.5  1002.7  1000.7  1006.3  1005.1  1004.6  1001.7  1001.1  1003.2  1004.6  1005.1  1005.5  1000.7  1001.8  1002.4  997.4  996.2  995.3  996.6  998.4  998.8  1002.3  1001.7  1000.9  1001.2  1001.1  998.6  997.6  997.7  996.9  995.4  1000.7  999.8  999.7  999.7  999.6  998.3  995.4  998.1  997.6  996.7  996.8  996.2  997.8  997.8  997.9  999.0  998.5  998.4  1001.3  1002.6  1003.9  1000.0  998.6  997.4  997.8  999.7  999.9  997.8  1000.2  999.1  997.6  999.0  999.6  1000.4  1004.1  1005.0  1002.4  1001.3  1000.1  1000.5  1003.1  1004.6  1006.7  1006.5  1003.2  1003.0  1005.8  1004.5  1005.8  1007.2  1007.8  1007.3  1006.3  1004.9  1008.2  1009.4  1010.4  1007.6  1006.9  1007.8  1009.0  1012.4  1014.3  1017.7  1016.0  1015.4  1015.6  1012.6  1013.3  1014.5  1015.6  1016.7  1017.8  1013.9  1013.2  1011.9  1013.0  1012.0  1013.7  1017.0  1017.9  1019.6  1017.0  1015.8  1013.7  1015.1  1017.1  1017.2  1016.9  1015.4  1015.8  1015.0  1016.9  1017.3  1021.3  1021.0  1018.4  1018.1  1017.4  1015.4  1014.4  1015.6  1016.9  1015.8  1018.9  1019.8  1017.3  1015.6  1014.5  1016.4  1017.6  1018.2  1017.6  1015.7  1017.1  1014.8  1014.7  1017.0  1018.9  1014.9  1014.0  1014.4  1015.4  1017.7  1018.4  1015.7  1015.0  1014.5  1011.9  1011.4  1011.7  1010.8  1014.1  1014.4  1008.8  1009.9  1010.5  1012.7  1012.8  1012.5  1008.3  1006.3  1007.3  1008.0  1007.2  1008.8  1008.9  1002.6  1003.0  1003.8  1005.5  1002.7  1000.7  1006.3  1005.1  1004.6  1001.7  1001.1  1003.2  1004.6  1005.1  1005.5  1000.7  1001.8  1002.4  997.4  996.2  995.3  996.6  998.4  998.8  1002.3  1001.7  1000.9  1001.2  1001.1  998.6  997.6  997.7  996.9  995.4  1000.7  999.8  999.7  999.7  999.6  998.3  995.4  998.1  997.6  996.7  996.8  996.2  997.8  997.8  997.9  999.0  998.5  998.4  1001.3  1002.6  1003.9  1000.0  998.6  997.4  997.8  999.7  999.9  997.8  1000.2  999.1  997.6  999.0  999.6  1000.4  1004.1  1005.0  1002.4  1001.3  1000.1  1000.5  1003.1  1004.6  1006.7  1006.5  1003.2  1003.0  1005.8  1004.5  1005.8  1007.2  1007.8  1007.3  1006.3  1004.9  1008.2  1009.4  1010.4  1007.6  1006.9  1007.8  1009.0  1012.4  1014.3  1017.7  1016.0  1015.4  1015.6  1012.6  1013.3  1014.5  1015.6  1016.7  1017.8  1013.9  1013.2  1011.9  1013.0  1012.0  1013.7  1017.0  1017.9  1019.6  1017.0  1015.8  1013.7  1015.1  1017.1  1017.2  1016.9  1015.4  1015.8  1015.0  1016.9  1017.3    1\n",
              "dtype: int64"
            ]
          },
          "metadata": {
            "tags": []
          },
          "execution_count": 21
        }
      ]
    }
  ]
}